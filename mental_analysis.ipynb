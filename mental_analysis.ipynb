{
  "cells": [
    {
      "cell_type": "code",
      "execution_count": 1,
      "id": "ef9f2753",
      "metadata": {
        "id": "ef9f2753"
      },
      "outputs": [],
      "source": [
        "# Importing libraries for data manipulation\n",
        "import pandas as pd\n",
        "import numpy as np\n",
        "\n",
        "# For data transformation\n",
        "from scipy.stats import zscore\n",
        "\n",
        "# For data visualization\n",
        "import seaborn as sns\n",
        "import matplotlib.pyplot as plt\n",
        "\n",
        "# For splitting the dataset\n",
        "from sklearn.model_selection import train_test_split\n",
        "\n",
        "# Importing machine learning algorithm\n",
        "from sklearn.ensemble import RandomForestClassifier\n",
        "\n",
        "# For model evaluation\n",
        "from sklearn.metrics import accuracy_score, ConfusionMatrixDisplay, classification_report\n"
      ]
    },
    {
      "cell_type": "code",
      "execution_count": 3,
      "id": "6312a268",
      "metadata": {
        "id": "6312a268",
        "outputId": "e3a4b0fb-a424-427d-ec72-252ba5484efa",
        "colab": {
          "base_uri": "https://localhost:8080/",
          "height": 373
        }
      },
      "outputs": [
        {
          "output_type": "error",
          "ename": "FileNotFoundError",
          "evalue": "[Errno 2] No such file or directory: 'C:\\\\Users\\\\Hour San Computer\\\\OneDrive\\\\Documents\\\\Lesson SE\\\\Year 2\\\\semeter 3\\\\Machine Leraing\\\\mental_health_cambodia_dataset.csv'",
          "traceback": [
            "\u001b[0;31m---------------------------------------------------------------------------\u001b[0m",
            "\u001b[0;31mFileNotFoundError\u001b[0m                         Traceback (most recent call last)",
            "\u001b[0;32m<ipython-input-3-7c6862e18899>\u001b[0m in \u001b[0;36m<cell line: 0>\u001b[0;34m()\u001b[0m\n\u001b[1;32m      1\u001b[0m \u001b[0;31m# Load the mental health dataset\u001b[0m\u001b[0;34m\u001b[0m\u001b[0;34m\u001b[0m\u001b[0m\n\u001b[0;32m----> 2\u001b[0;31m \u001b[0mmental_data\u001b[0m \u001b[0;34m=\u001b[0m \u001b[0mpd\u001b[0m\u001b[0;34m.\u001b[0m\u001b[0mread_csv\u001b[0m\u001b[0;34m(\u001b[0m\u001b[0;34mr\"C:\\Users\\Hour San Computer\\OneDrive\\Documents\\Lesson SE\\Year 2\\semeter 3\\Machine Leraing\\mental_health_cambodia_dataset.csv\"\u001b[0m\u001b[0;34m)\u001b[0m\u001b[0;34m\u001b[0m\u001b[0;34m\u001b[0m\u001b[0m\n\u001b[0m\u001b[1;32m      3\u001b[0m \u001b[0;31m# Displaying the first few records\u001b[0m\u001b[0;34m\u001b[0m\u001b[0;34m\u001b[0m\u001b[0m\n\u001b[1;32m      4\u001b[0m \u001b[0mprint\u001b[0m\u001b[0;34m(\u001b[0m\u001b[0;34m\"First 5 records:\"\u001b[0m\u001b[0;34m)\u001b[0m\u001b[0;34m\u001b[0m\u001b[0;34m\u001b[0m\u001b[0m\n\u001b[1;32m      5\u001b[0m \u001b[0mprint\u001b[0m\u001b[0;34m(\u001b[0m\u001b[0mmental_data\u001b[0m\u001b[0;34m.\u001b[0m\u001b[0mhead\u001b[0m\u001b[0;34m(\u001b[0m\u001b[0;34m)\u001b[0m\u001b[0;34m)\u001b[0m\u001b[0;34m\u001b[0m\u001b[0;34m\u001b[0m\u001b[0m\n",
            "\u001b[0;32m/usr/local/lib/python3.11/dist-packages/pandas/io/parsers/readers.py\u001b[0m in \u001b[0;36mread_csv\u001b[0;34m(filepath_or_buffer, sep, delimiter, header, names, index_col, usecols, dtype, engine, converters, true_values, false_values, skipinitialspace, skiprows, skipfooter, nrows, na_values, keep_default_na, na_filter, verbose, skip_blank_lines, parse_dates, infer_datetime_format, keep_date_col, date_parser, date_format, dayfirst, cache_dates, iterator, chunksize, compression, thousands, decimal, lineterminator, quotechar, quoting, doublequote, escapechar, comment, encoding, encoding_errors, dialect, on_bad_lines, delim_whitespace, low_memory, memory_map, float_precision, storage_options, dtype_backend)\u001b[0m\n\u001b[1;32m   1024\u001b[0m     \u001b[0mkwds\u001b[0m\u001b[0;34m.\u001b[0m\u001b[0mupdate\u001b[0m\u001b[0;34m(\u001b[0m\u001b[0mkwds_defaults\u001b[0m\u001b[0;34m)\u001b[0m\u001b[0;34m\u001b[0m\u001b[0;34m\u001b[0m\u001b[0m\n\u001b[1;32m   1025\u001b[0m \u001b[0;34m\u001b[0m\u001b[0m\n\u001b[0;32m-> 1026\u001b[0;31m     \u001b[0;32mreturn\u001b[0m \u001b[0m_read\u001b[0m\u001b[0;34m(\u001b[0m\u001b[0mfilepath_or_buffer\u001b[0m\u001b[0;34m,\u001b[0m \u001b[0mkwds\u001b[0m\u001b[0;34m)\u001b[0m\u001b[0;34m\u001b[0m\u001b[0;34m\u001b[0m\u001b[0m\n\u001b[0m\u001b[1;32m   1027\u001b[0m \u001b[0;34m\u001b[0m\u001b[0m\n\u001b[1;32m   1028\u001b[0m \u001b[0;34m\u001b[0m\u001b[0m\n",
            "\u001b[0;32m/usr/local/lib/python3.11/dist-packages/pandas/io/parsers/readers.py\u001b[0m in \u001b[0;36m_read\u001b[0;34m(filepath_or_buffer, kwds)\u001b[0m\n\u001b[1;32m    618\u001b[0m \u001b[0;34m\u001b[0m\u001b[0m\n\u001b[1;32m    619\u001b[0m     \u001b[0;31m# Create the parser.\u001b[0m\u001b[0;34m\u001b[0m\u001b[0;34m\u001b[0m\u001b[0m\n\u001b[0;32m--> 620\u001b[0;31m     \u001b[0mparser\u001b[0m \u001b[0;34m=\u001b[0m \u001b[0mTextFileReader\u001b[0m\u001b[0;34m(\u001b[0m\u001b[0mfilepath_or_buffer\u001b[0m\u001b[0;34m,\u001b[0m \u001b[0;34m**\u001b[0m\u001b[0mkwds\u001b[0m\u001b[0;34m)\u001b[0m\u001b[0;34m\u001b[0m\u001b[0;34m\u001b[0m\u001b[0m\n\u001b[0m\u001b[1;32m    621\u001b[0m \u001b[0;34m\u001b[0m\u001b[0m\n\u001b[1;32m    622\u001b[0m     \u001b[0;32mif\u001b[0m \u001b[0mchunksize\u001b[0m \u001b[0;32mor\u001b[0m \u001b[0miterator\u001b[0m\u001b[0;34m:\u001b[0m\u001b[0;34m\u001b[0m\u001b[0;34m\u001b[0m\u001b[0m\n",
            "\u001b[0;32m/usr/local/lib/python3.11/dist-packages/pandas/io/parsers/readers.py\u001b[0m in \u001b[0;36m__init__\u001b[0;34m(self, f, engine, **kwds)\u001b[0m\n\u001b[1;32m   1618\u001b[0m \u001b[0;34m\u001b[0m\u001b[0m\n\u001b[1;32m   1619\u001b[0m         \u001b[0mself\u001b[0m\u001b[0;34m.\u001b[0m\u001b[0mhandles\u001b[0m\u001b[0;34m:\u001b[0m \u001b[0mIOHandles\u001b[0m \u001b[0;34m|\u001b[0m \u001b[0;32mNone\u001b[0m \u001b[0;34m=\u001b[0m \u001b[0;32mNone\u001b[0m\u001b[0;34m\u001b[0m\u001b[0;34m\u001b[0m\u001b[0m\n\u001b[0;32m-> 1620\u001b[0;31m         \u001b[0mself\u001b[0m\u001b[0;34m.\u001b[0m\u001b[0m_engine\u001b[0m \u001b[0;34m=\u001b[0m \u001b[0mself\u001b[0m\u001b[0;34m.\u001b[0m\u001b[0m_make_engine\u001b[0m\u001b[0;34m(\u001b[0m\u001b[0mf\u001b[0m\u001b[0;34m,\u001b[0m \u001b[0mself\u001b[0m\u001b[0;34m.\u001b[0m\u001b[0mengine\u001b[0m\u001b[0;34m)\u001b[0m\u001b[0;34m\u001b[0m\u001b[0;34m\u001b[0m\u001b[0m\n\u001b[0m\u001b[1;32m   1621\u001b[0m \u001b[0;34m\u001b[0m\u001b[0m\n\u001b[1;32m   1622\u001b[0m     \u001b[0;32mdef\u001b[0m \u001b[0mclose\u001b[0m\u001b[0;34m(\u001b[0m\u001b[0mself\u001b[0m\u001b[0;34m)\u001b[0m \u001b[0;34m->\u001b[0m \u001b[0;32mNone\u001b[0m\u001b[0;34m:\u001b[0m\u001b[0;34m\u001b[0m\u001b[0;34m\u001b[0m\u001b[0m\n",
            "\u001b[0;32m/usr/local/lib/python3.11/dist-packages/pandas/io/parsers/readers.py\u001b[0m in \u001b[0;36m_make_engine\u001b[0;34m(self, f, engine)\u001b[0m\n\u001b[1;32m   1878\u001b[0m                 \u001b[0;32mif\u001b[0m \u001b[0;34m\"b\"\u001b[0m \u001b[0;32mnot\u001b[0m \u001b[0;32min\u001b[0m \u001b[0mmode\u001b[0m\u001b[0;34m:\u001b[0m\u001b[0;34m\u001b[0m\u001b[0;34m\u001b[0m\u001b[0m\n\u001b[1;32m   1879\u001b[0m                     \u001b[0mmode\u001b[0m \u001b[0;34m+=\u001b[0m \u001b[0;34m\"b\"\u001b[0m\u001b[0;34m\u001b[0m\u001b[0;34m\u001b[0m\u001b[0m\n\u001b[0;32m-> 1880\u001b[0;31m             self.handles = get_handle(\n\u001b[0m\u001b[1;32m   1881\u001b[0m                 \u001b[0mf\u001b[0m\u001b[0;34m,\u001b[0m\u001b[0;34m\u001b[0m\u001b[0;34m\u001b[0m\u001b[0m\n\u001b[1;32m   1882\u001b[0m                 \u001b[0mmode\u001b[0m\u001b[0;34m,\u001b[0m\u001b[0;34m\u001b[0m\u001b[0;34m\u001b[0m\u001b[0m\n",
            "\u001b[0;32m/usr/local/lib/python3.11/dist-packages/pandas/io/common.py\u001b[0m in \u001b[0;36mget_handle\u001b[0;34m(path_or_buf, mode, encoding, compression, memory_map, is_text, errors, storage_options)\u001b[0m\n\u001b[1;32m    871\u001b[0m         \u001b[0;32mif\u001b[0m \u001b[0mioargs\u001b[0m\u001b[0;34m.\u001b[0m\u001b[0mencoding\u001b[0m \u001b[0;32mand\u001b[0m \u001b[0;34m\"b\"\u001b[0m \u001b[0;32mnot\u001b[0m \u001b[0;32min\u001b[0m \u001b[0mioargs\u001b[0m\u001b[0;34m.\u001b[0m\u001b[0mmode\u001b[0m\u001b[0;34m:\u001b[0m\u001b[0;34m\u001b[0m\u001b[0;34m\u001b[0m\u001b[0m\n\u001b[1;32m    872\u001b[0m             \u001b[0;31m# Encoding\u001b[0m\u001b[0;34m\u001b[0m\u001b[0;34m\u001b[0m\u001b[0m\n\u001b[0;32m--> 873\u001b[0;31m             handle = open(\n\u001b[0m\u001b[1;32m    874\u001b[0m                 \u001b[0mhandle\u001b[0m\u001b[0;34m,\u001b[0m\u001b[0;34m\u001b[0m\u001b[0;34m\u001b[0m\u001b[0m\n\u001b[1;32m    875\u001b[0m                 \u001b[0mioargs\u001b[0m\u001b[0;34m.\u001b[0m\u001b[0mmode\u001b[0m\u001b[0;34m,\u001b[0m\u001b[0;34m\u001b[0m\u001b[0;34m\u001b[0m\u001b[0m\n",
            "\u001b[0;31mFileNotFoundError\u001b[0m: [Errno 2] No such file or directory: 'C:\\\\Users\\\\Hour San Computer\\\\OneDrive\\\\Documents\\\\Lesson SE\\\\Year 2\\\\semeter 3\\\\Machine Leraing\\\\mental_health_cambodia_dataset.csv'"
          ]
        }
      ],
      "source": [
        "# Load the mental health dataset\n",
        "mental_data = pd.read_csv(r\"C:\\Users\\Hour San Computer\\OneDrive\\Documents\\Lesson SE\\Year 2\\semeter 3\\Machine Leraing\\mental_health_cambodia_dataset.csv\")\n",
        "# Displaying the first few records\n",
        "print(\"First 5 records:\")\n",
        "print(mental_data.head())"
      ]
    },
    {
      "cell_type": "code",
      "execution_count": null,
      "id": "bf5862e2",
      "metadata": {
        "id": "bf5862e2"
      },
      "outputs": [],
      "source": [
        "# data info\n",
        "mental_data.info()"
      ]
    },
    {
      "cell_type": "code",
      "execution_count": null,
      "id": "a766d688",
      "metadata": {
        "id": "a766d688"
      },
      "outputs": [],
      "source": [
        "# Descriptive statistics\n",
        "mental_data.describe().round(2)"
      ]
    },
    {
      "cell_type": "code",
      "execution_count": null,
      "id": "20837443",
      "metadata": {
        "id": "20837443"
      },
      "outputs": [],
      "source": [
        "# Counting class distribution\n",
        "class_counts = mental_data['Risk'].value_counts()\n",
        "print(\"\\nClass Counts:\")\n",
        "print(class_counts)\n",
        "\n",
        "# Percentages\n",
        "class_percent = (class_counts / len(mental_data)) * 100\n",
        "print(\"\\nClass Percentages:\")\n",
        "print(class_percent)\n"
      ]
    },
    {
      "cell_type": "code",
      "execution_count": null,
      "id": "c029c1df",
      "metadata": {
        "id": "c029c1df"
      },
      "outputs": [],
      "source": [
        "#Class distribution\n",
        "sns.countplot(data=mental_data, x='Risk')\n",
        "plt.title(\"Mental Health Diagnosis Distribution in Cambodia\")\n",
        "plt.show()"
      ]
    },
    {
      "cell_type": "code",
      "execution_count": null,
      "id": "535edec6",
      "metadata": {
        "id": "535edec6"
      },
      "outputs": [],
      "source": [
        "# Boxplot for selected features\n",
        "features = ['Age', 'Income_Level', 'Trauma']\n",
        "for feature in features:\n",
        "    sns.boxplot(data=mental_data, x=feature)\n",
        "    plt.title(f\"Boxplot for {feature}\")\n",
        "    plt.show()"
      ]
    },
    {
      "cell_type": "code",
      "execution_count": null,
      "id": "8b863e25",
      "metadata": {
        "id": "8b863e25"
      },
      "outputs": [],
      "source": [
        "#Drop missing values\n",
        "mental_data.dropna(inplace=True)\n",
        "\n",
        "# Drop ID (not useful)\n",
        "mental_data = mental_data.drop(columns=['ID'], errors='ignore')\n",
        "\n",
        "#Separte features and target\n",
        "X = mental_data.drop(columns=['Risk'])\n",
        "y = mental_data['Risk']\n",
        "\n",
        "# One-hot encode categorical columns\n",
        "X_encoded = pd.get_dummies(X)\n",
        "\n",
        "#Standardize numeric features\n",
        "X_scaled = X_encoded.apply(zscore)\n",
        "\n",
        "print(\"\\nStandardized features:\")\n",
        "print(X_scaled.head())\n"
      ]
    },
    {
      "cell_type": "code",
      "execution_count": null,
      "id": "c5ba2741",
      "metadata": {
        "id": "c5ba2741"
      },
      "outputs": [],
      "source": [
        "#Splitting the Dataset\n",
        "X_train, X_test, y_train, y_test = train_test_split(X_scaled, y, test_size=0.2, random_state=42)"
      ]
    },
    {
      "cell_type": "code",
      "execution_count": null,
      "id": "eb48a2ea",
      "metadata": {
        "id": "eb48a2ea"
      },
      "outputs": [],
      "source": [
        "from sklearn.linear_model import LogisticRegression\n",
        "\n",
        "# Initialize the instance of the algorithm\n",
        "logistic_model = LogisticRegression(max_iter=1000, random_state=42)\n",
        "\n",
        "# Use the instance to train the model\n",
        "logistic_model.fit(X_train, y_train)\n"
      ]
    },
    {
      "cell_type": "code",
      "execution_count": null,
      "id": "2b9d0419",
      "metadata": {
        "id": "2b9d0419"
      },
      "outputs": [],
      "source": [
        "from sklearn.metrics import precision_score, recall_score, f1_score\n",
        "\n",
        "# Making predictions on the test set\n",
        "test_predictions = logistic_model.predict(X_test)\n",
        "\n",
        "# Computing and printing the performance metrics\n",
        "print(\"Accuracy:\", accuracy_score(y_test, test_predictions))\n",
        "print(\"Precision:\", precision_score(y_test, test_predictions, average='weighted'))\n",
        "print(\"Recall:\", recall_score(y_test, test_predictions, average='weighted'))\n",
        "print(\"F1 Score:\", f1_score(y_test, test_predictions, average='weighted'))"
      ]
    },
    {
      "cell_type": "code",
      "execution_count": null,
      "id": "4dc4981e",
      "metadata": {
        "id": "4dc4981e"
      },
      "outputs": [],
      "source": [
        "# Visualizing the confusion matrix\n",
        "cm = confusion_matrix(y_test, test_predictions, labels=logistic_model.classes_)\n",
        "disp = ConfusionMatrixDisplay(confusion_matrix=cm, display_labels=logistic_model.classes_)\n",
        "plt.figure(figsize=(8, 6))\n",
        "disp.plot()\n",
        "plt.title(\"Confusion Matrix\")\n",
        "plt.grid(False)\n",
        "plt.show()"
      ]
    },
    {
      "cell_type": "code",
      "execution_count": null,
      "id": "557fd7ac",
      "metadata": {
        "id": "557fd7ac"
      },
      "outputs": [],
      "source": [
        "import joblib\n",
        "\n",
        "# Saving the trained logistic regression model\n",
        "joblib.dump(logistic_model, 'mental_health_logistic_model.joblib')\n"
      ]
    },
    {
      "cell_type": "code",
      "execution_count": null,
      "id": "a18fa357",
      "metadata": {
        "id": "a18fa357"
      },
      "outputs": [],
      "source": [
        "# Load the model\n",
        "loaded_model = joblib.load('mental_health_logistic_model.joblib')\n",
        "\n",
        "# Calculate means and stds from training data\n",
        "feature_means = X_train.mean()\n",
        "feature_stds = X_train.std()\n",
        "\n",
        "#Define new unseen data\n",
        "new_data = [24, 1, 2, 3, 1, 120, 3, 1, 4, 3, 2, 3, 2]  # Example\n",
        "\n",
        "# Standardize\n",
        "standardized_new_data = (np.array(new_data) - feature_means.values) / feature_stds.values\n",
        "reshaped_new_data = standardized_new_data.reshape(1, -1)\n",
        "\n",
        "# Predict\n",
        "prediction = loaded_model.predict(reshaped_new_data)\n",
        "print(\"\\nPrediction on New Data:\")\n",
        "print(\"The new data is predicted as class:\", prediction[0])"
      ]
    }
  ],
  "metadata": {
    "kernelspec": {
      "display_name": "lily_venv",
      "language": "python",
      "name": "lily_venv"
    },
    "language_info": {
      "codemirror_mode": {
        "name": "ipython",
        "version": 3
      },
      "file_extension": ".py",
      "mimetype": "text/x-python",
      "name": "python",
      "nbconvert_exporter": "python",
      "pygments_lexer": "ipython3",
      "version": "3.12.4"
    },
    "polyglot_notebook": {
      "kernelInfo": {
        "defaultKernelName": "csharp",
        "items": [
          {
            "aliases": [],
            "name": "csharp"
          }
        ]
      }
    },
    "colab": {
      "provenance": []
    }
  },
  "nbformat": 4,
  "nbformat_minor": 5
}