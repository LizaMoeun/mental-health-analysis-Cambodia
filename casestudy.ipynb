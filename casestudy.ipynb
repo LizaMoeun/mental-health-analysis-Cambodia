{
 "cells": [
  {
   "cell_type": "markdown",
   "id": "40acade7",
   "metadata": {},
   "source": [
    "Mental Health Analysis in Cambodia Using ML"
   ]
  },
  {
   "cell_type": "code",
   "execution_count": null,
   "id": "ef9f2753",
   "metadata": {},
   "outputs": [],
   "source": [
    "# Importing libraries for data manipulation\n",
    "import pandas as pd\n",
    "import numpy as np\n",
    "\n",
    "# For data transformation\n",
    "from scipy.stats import zscore\n",
    "\n",
    "# For data visualization\n",
    "import seaborn as sns\n",
    "import matplotlib.pyplot as plt\n",
    "\n",
    "# For splitting the dataset\n",
    "from sklearn.model_selection import train_test_split\n",
    "\n",
    "# Importing machine learning algorithm\n",
    "from sklearn.ensemble import RandomForestClassifier\n",
    "\n",
    "# For model evaluation\n",
    "from sklearn.metrics import accuracy_score, ConfusionMatrixDisplay, classification_report\n"
   ]
  },
  {
   "cell_type": "code",
   "execution_count": null,
   "id": "6312a268",
   "metadata": {},
   "outputs": [],
   "source": [
    "# Load the mental health dataset \n",
    "mental_data = pd.read_csv(r\"C:\\Users\\Hour San Computer\\OneDrive\\Documents\\Lesson SE\\Year 2\\semeter 3\\Machine Leraing\\mental_health_cambodia_dataset.csv\")\n",
    "# Displaying the first few records\n",
    "print(\"First 5 records:\")\n",
    "print(mental_data.head())"
   ]
  },
  {
   "cell_type": "code",
   "execution_count": null,
   "id": "bf5862e2",
   "metadata": {},
   "outputs": [],
   "source": [
    "# data info\n",
    "mental_data.info()"
   ]
  },
  {
   "cell_type": "code",
   "execution_count": null,
   "id": "a766d688",
   "metadata": {},
   "outputs": [],
   "source": [
    "# Descriptive statistics\n",
    "mental_data.describe().round(2)"
   ]
  },
  {
   "cell_type": "code",
   "execution_count": null,
   "id": "20837443",
   "metadata": {},
   "outputs": [],
   "source": [
    "# Counting class distribution\n",
    "class_counts = mental_data['Risk'].value_counts()\n",
    "print(\"\\nClass Counts:\")\n",
    "print(class_counts)\n",
    "\n",
    "# Percentages\n",
    "class_percent = (class_counts / len(mental_data)) * 100\n",
    "print(\"\\nClass Percentages:\")\n",
    "print(class_percent)\n"
   ]
  },
  {
   "cell_type": "code",
   "execution_count": null,
   "id": "c029c1df",
   "metadata": {},
   "outputs": [],
   "source": [
    "#Class distribution\n",
    "sns.countplot(data=mental_data, x='Risk')\n",
    "plt.title(\"Mental Health Diagnosis Distribution in Cambodia\")\n",
    "plt.show()"
   ]
  },
  {
   "cell_type": "code",
   "execution_count": null,
   "id": "535edec6",
   "metadata": {},
   "outputs": [],
   "source": [
    "# Boxplot for selected features\n",
    "features = ['Age', 'Income_Level', 'Trauma']\n",
    "for feature in features:\n",
    "    sns.boxplot(data=mental_data, x=feature)\n",
    "    plt.title(f\"Boxplot for {feature}\")\n",
    "    plt.show()"
   ]
  },
  {
   "cell_type": "code",
   "execution_count": null,
   "id": "8b863e25",
   "metadata": {},
   "outputs": [],
   "source": [
    "#Drop missing values\n",
    "mental_data.dropna(inplace=True)\n",
    "\n",
    "# Drop ID (not useful)\n",
    "mental_data = mental_data.drop(columns=['ID'], errors='ignore')\n",
    "\n",
    "#Separte features and target\n",
    "X = mental_data.drop(columns=['Risk'])\n",
    "y = mental_data['Risk']\n",
    "\n",
    "# One-hot encode categorical columns\n",
    "X_encoded = pd.get_dummies(X)\n",
    "\n",
    "#Standardize numeric features\n",
    "X_scaled = X_encoded.apply(zscore)\n",
    "\n",
    "print(\"\\nStandardized features:\")\n",
    "print(X_scaled.head())\n"
   ]
  },
  {
   "cell_type": "code",
   "execution_count": null,
   "id": "c5ba2741",
   "metadata": {},
   "outputs": [],
   "source": [
    "#Splitting the Dataset\n",
    "X_train, X_test, y_train, y_test = train_test_split(X_scaled, y, test_size=0.2, random_state=42)"
   ]
  },
  {
   "cell_type": "code",
   "execution_count": null,
   "id": "eb48a2ea",
   "metadata": {},
   "outputs": [],
   "source": [
    "from sklearn.linear_model import LogisticRegression\n",
    "\n",
    "# Initialize the instance of the algorithm\n",
    "logistic_model = LogisticRegression(max_iter=1000, random_state=42)\n",
    "\n",
    "# Use the instance to train the model\n",
    "logistic_model.fit(X_train, y_train)\n"
   ]
  },
  {
   "cell_type": "code",
   "execution_count": null,
   "id": "2b9d0419",
   "metadata": {},
   "outputs": [],
   "source": [
    "from sklearn.metrics import precision_score, recall_score, f1_score\n",
    "\n",
    "# Making predictions on the test set\n",
    "test_predictions = logistic_model.predict(X_test)\n",
    "\n",
    "# Computing and printing the performance metrics\n",
    "print(\"Accuracy:\", accuracy_score(y_test, test_predictions))\n",
    "print(\"Precision:\", precision_score(y_test, test_predictions, average='weighted'))\n",
    "print(\"Recall:\", recall_score(y_test, test_predictions, average='weighted'))\n",
    "print(\"F1 Score:\", f1_score(y_test, test_predictions, average='weighted'))"
   ]
  },
  {
   "cell_type": "code",
   "execution_count": null,
   "id": "4dc4981e",
   "metadata": {},
   "outputs": [],
   "source": [
    "# Visualizing the confusion matrix\n",
    "cm = confusion_matrix(y_test, test_predictions, labels=logistic_model.classes_)\n",
    "disp = ConfusionMatrixDisplay(confusion_matrix=cm, display_labels=logistic_model.classes_)\n",
    "plt.figure(figsize=(8, 6))\n",
    "disp.plot()\n",
    "plt.title(\"Confusion Matrix\")\n",
    "plt.grid(False)\n",
    "plt.show()"
   ]
  },
  {
   "cell_type": "code",
   "execution_count": null,
   "id": "557fd7ac",
   "metadata": {},
   "outputs": [],
   "source": [
    "import joblib\n",
    "\n",
    "# Saving the trained logistic regression model\n",
    "joblib.dump(logistic_model, 'mental_health_logistic_model.joblib')\n"
   ]
  },
  {
   "cell_type": "code",
   "execution_count": null,
   "id": "a18fa357",
   "metadata": {},
   "outputs": [],
   "source": [
    "# Load the model\n",
    "loaded_model = joblib.load('mental_health_logistic_model.joblib')\n",
    "\n",
    "# Calculate means and stds from training data\n",
    "feature_means = X_train.mean()\n",
    "feature_stds = X_train.std()\n",
    "\n",
    "#Define new unseen data\n",
    "new_data = [24, 1, 2, 3, 1, 120, 3, 1, 4, 3, 2, 3, 2]  # Example\n",
    "\n",
    "# Standardize\n",
    "standardized_new_data = (np.array(new_data) - feature_means.values) / feature_stds.values\n",
    "reshaped_new_data = standardized_new_data.reshape(1, -1)\n",
    "\n",
    "# Predict\n",
    "prediction = loaded_model.predict(reshaped_new_data)\n",
    "print(\"\\nPrediction on New Data:\")\n",
    "print(\"The new data is predicted as class:\", prediction[0])"
   ]
  }
 ],
 "metadata": {
  "kernelspec": {
   "display_name": "lily_venv",
   "language": "python",
   "name": "lily_venv"
  },
  "language_info": {
   "codemirror_mode": {
    "name": "ipython",
    "version": 3
   },
   "file_extension": ".py",
   "mimetype": "text/x-python",
   "name": "python",
   "nbconvert_exporter": "python",
   "pygments_lexer": "ipython3",
   "version": "3.12.4"
  },
  "polyglot_notebook": {
   "kernelInfo": {
    "defaultKernelName": "csharp",
    "items": [
     {
      "aliases": [],
      "name": "csharp"
     }
    ]
   }
  }
 },
 "nbformat": 4,
 "nbformat_minor": 5
}
